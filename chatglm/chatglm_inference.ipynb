{
 "cells": [
  {
   "cell_type": "markdown",
   "id": "fc5bde60-1899-461d-8083-3ee04ac7c099",
   "metadata": {},
   "source": [
    "# 模型推理 - 使用 QLoRA 微调后的 ChatGLM-6B"
   ]
  },
  {
   "cell_type": "code",
   "execution_count": 1,
   "id": "3292b88c-91f0-48d2-91a5-06b0830c7e70",
   "metadata": {},
   "outputs": [
    {
     "name": "stderr",
     "output_type": "stream",
     "text": [
      "/root/miniconda3/envs/transformers/lib/python3.11/site-packages/tqdm/auto.py:21: TqdmWarning: IProgress not found. Please update jupyter and ipywidgets. See https://ipywidgets.readthedocs.io/en/stable/user_install.html\n",
      "  from .autonotebook import tqdm as notebook_tqdm\n"
     ]
    }
   ],
   "source": [
    "import torch\n",
    "from transformers import AutoModel, AutoTokenizer, BitsAndBytesConfig\n",
    "\n",
    "# 模型ID或本地路径\n",
    "model_name_or_path = 'THUDM/chatglm3-6b'"
   ]
  },
  {
   "cell_type": "code",
   "execution_count": 2,
   "id": "9f81454c-24b2-4072-ab05-b25f9b120ae6",
   "metadata": {},
   "outputs": [
    {
     "name": "stderr",
     "output_type": "stream",
     "text": [
      "Loading checkpoint shards: 100%|██████████| 7/7 [00:03<00:00,  1.92it/s]\n"
     ]
    }
   ],
   "source": [
    "_compute_dtype_map = {\n",
    "    'fp32': torch.float32,\n",
    "    'fp16': torch.float16,\n",
    "    'bf16': torch.bfloat16\n",
    "}\n",
    "\n",
    "# QLoRA 量化配置\n",
    "q_config = BitsAndBytesConfig(load_in_4bit=True,\n",
    "                              bnb_4bit_quant_type='nf4',\n",
    "                              bnb_4bit_use_double_quant=True,\n",
    "                              bnb_4bit_compute_dtype=_compute_dtype_map['bf16'])\n",
    "# 加载量化后模型\n",
    "base_model = AutoModel.from_pretrained(model_name_or_path,\n",
    "                                  quantization_config=q_config,\n",
    "                                  device_map='auto',\n",
    "                                  trust_remote_code=True)"
   ]
  },
  {
   "cell_type": "code",
   "execution_count": 3,
   "id": "d488846f-41bb-4fe6-9f09-0f392f3b39e6",
   "metadata": {},
   "outputs": [
    {
     "data": {
      "text/plain": [
       "ChatGLMForConditionalGeneration(\n",
       "  (transformer): ChatGLMModel(\n",
       "    (embedding): Embedding(\n",
       "      (word_embeddings): Embedding(65024, 4096)\n",
       "    )\n",
       "    (rotary_pos_emb): RotaryEmbedding()\n",
       "    (encoder): GLMTransformer(\n",
       "      (layers): ModuleList(\n",
       "        (0-27): 28 x GLMBlock(\n",
       "          (input_layernorm): RMSNorm()\n",
       "          (self_attention): SelfAttention(\n",
       "            (query_key_value): Linear4bit(in_features=4096, out_features=4608, bias=True)\n",
       "            (core_attention): CoreAttention(\n",
       "              (attention_dropout): Dropout(p=0.0, inplace=False)\n",
       "            )\n",
       "            (dense): Linear4bit(in_features=4096, out_features=4096, bias=False)\n",
       "          )\n",
       "          (post_attention_layernorm): RMSNorm()\n",
       "          (mlp): MLP(\n",
       "            (dense_h_to_4h): Linear4bit(in_features=4096, out_features=27392, bias=False)\n",
       "            (dense_4h_to_h): Linear4bit(in_features=13696, out_features=4096, bias=False)\n",
       "          )\n",
       "        )\n",
       "      )\n",
       "      (final_layernorm): RMSNorm()\n",
       "    )\n",
       "    (output_layer): Linear(in_features=4096, out_features=65024, bias=False)\n",
       "  )\n",
       ")"
      ]
     },
     "execution_count": 3,
     "metadata": {},
     "output_type": "execute_result"
    }
   ],
   "source": [
    "base_model.requires_grad_(False)\n",
    "base_model.eval()"
   ]
  },
  {
   "cell_type": "code",
   "execution_count": 4,
   "id": "7e4270e2-c827-450e-bf27-7cb43a97f8f7",
   "metadata": {},
   "outputs": [],
   "source": [
    "tokenizer = AutoTokenizer.from_pretrained(model_name_or_path, trust_remote_code=True)"
   ]
  },
  {
   "cell_type": "markdown",
   "id": "63408b60-876e-4eda-b501-90f842cca002",
   "metadata": {},
   "source": [
    "## 使用微调前 ChatGLM3"
   ]
  },
  {
   "cell_type": "code",
   "execution_count": 5,
   "id": "6ef405cf-7d77-41a6-a07b-c6c768ee30cf",
   "metadata": {},
   "outputs": [],
   "source": [
    "input_text = \"解释下乾卦是什么？\""
   ]
  },
  {
   "cell_type": "code",
   "execution_count": 7,
   "id": "566ed80e-828b-4105-b6e6-49de8905c991",
   "metadata": {},
   "outputs": [
    {
     "name": "stderr",
     "output_type": "stream",
     "text": [
      "2024-01-26 20:55:00.757689: I tensorflow/core/platform/cpu_feature_guard.cc:182] This TensorFlow binary is optimized to use available CPU instructions in performance-critical operations.\n",
      "To enable the following instructions: SSE4.1 SSE4.2 AVX AVX2 FMA, in other operations, rebuild TensorFlow with the appropriate compiler flags.\n"
     ]
    }
   ],
   "source": [
    "response, history = base_model.chat(tokenizer, query=input_text)"
   ]
  },
  {
   "cell_type": "code",
   "execution_count": 8,
   "id": "6cee217e-f276-4c2f-94e7-69afb6d541a6",
   "metadata": {},
   "outputs": [
    {
     "name": "stdout",
     "output_type": "stream",
     "text": [
      "乾卦是八卦之一，也是八宫图说、易经、易学中非常重要的一部分。乾卦是由两个阴爻夹一个阳爻构成，象征着天、云和空气。乾卦的卦辞是“元、亨、利、贞”，表示宇宙万物的本源和运行的规律，以及人类行为准则的正确和美满。\n",
      "\n",
      "乾卦的六爻分别代表着不同的含义，从下往上依次为：初爻，二爻，三爻，四爻，五爻，上爻。每一爻的阳爻代表阳刚之气，阴爻代表阴柔之气。通过六爻的变化组合，可以得出不同的卦象，例如乾、坤、震、巽、坎、离、艮、兑等。\n",
      "\n",
      "乾卦主要阐述阳刚之气、力量、创造、领导等象征。在易经中，乾卦与坤卦被认为是天地的两极，象征着宇宙万物的形成和运行。乾卦也常常被用来象征父亲、领导、丈夫等阳刚之气强烈的角色，以及权力和威严等。同时，乾卦还代表着天空、云彩、树木等，具有开放、广博、包容的特点。\n"
     ]
    }
   ],
   "source": [
    "print(response)"
   ]
  },
  {
   "cell_type": "code",
   "execution_count": null,
   "id": "80f78f9f-5274-44c4-b11c-daab62b15a8b",
   "metadata": {},
   "outputs": [],
   "source": []
  },
  {
   "cell_type": "code",
   "execution_count": 9,
   "id": "bbe1395f-39c2-4759-ae81-90ef3bcfae47",
   "metadata": {},
   "outputs": [
    {
     "name": "stdout",
     "output_type": "stream",
     "text": [
      "地水师卦是《易经》中的一种卦象，由两个阴爻夹一个阳爻构成，象征着地水之合。这个卦象主要阐述柔顺、适应、团结、合作等象征。\n",
      "\n",
      "在《易经》中，师卦的卦辞是“西南得朋，东北丧朋。安贞，吉”，表示通过柔顺、适应、团结、合作等方法可以获得吉祥。师卦主要代表教师、领导者、导师等角色，以及知识、智慧、技能等。\n",
      "\n",
      "地水师卦通常被认为是一种中庸之道，具有灵活性和适应性。它告诉我们，在面对不同的环境和挑战时，应该根据实际情况灵活应对，保持柔顺和适应性，同时要善于团结和合作，才能获得吉祥和成功。\n"
     ]
    }
   ],
   "source": [
    "response, history = base_model.chat(tokenizer, query=\"地水师卦是什么？\", history=history)\n",
    "print(response)"
   ]
  },
  {
   "cell_type": "code",
   "execution_count": null,
   "id": "342b3659-d644-4232-8af1-f092e733bf40",
   "metadata": {},
   "outputs": [],
   "source": []
  },
  {
   "cell_type": "markdown",
   "id": "6d23e720-dee1-4b43-a298-0cbe1d8ad11d",
   "metadata": {},
   "source": [
    "## 微调前后效果对比\n",
    "\n",
    "#### 加载 QLoRA Adapter(Epoch=50, Overfit, handmade-dataset)"
   ]
  },
  {
   "cell_type": "code",
   "execution_count": 14,
   "id": "72e6cc4f-c030-4107-b07a-6ef44f66a4b0",
   "metadata": {},
   "outputs": [],
   "source": [
    "from peft import PeftModel, PeftConfig\n",
    "\n",
    "epochs = 50\n",
    "peft_model_path = f\"models/{model_name_or_path}-epoch{epochs}\"\n",
    "\n",
    "config = PeftConfig.from_pretrained(peft_model_path)\n",
    "model = PeftModel.from_pretrained(base_model, peft_model_path)"
   ]
  },
  {
   "cell_type": "markdown",
   "id": "9fbf40b4-3109-4668-93dc-1203058c17af",
   "metadata": {},
   "source": [
    "### 使用微调后的 ChatGLM3-6B"
   ]
  },
  {
   "cell_type": "code",
   "execution_count": 15,
   "id": "df0a8067-3433-4c72-b285-134c466e55ac",
   "metadata": {},
   "outputs": [],
   "source": [
    "def compare_chatglm_results(query):\n",
    "    base_response, base_history = base_model.chat(tokenizer, query)\n",
    "\n",
    "    inputs = tokenizer(query, return_tensors=\"pt\").to(0)\n",
    "    ft_out = model.generate(**inputs, max_new_tokens=512)\n",
    "    ft_response = tokenizer.decode(ft_out[0], skip_special_tokens=True)\n",
    "    \n",
    "    print(f\"问题：{query}\\n\\n原始输出：\\n{base_response}\\n\\n\\nChatGLM3-6B微调后：\\n{ft_response}\")\n",
    "    return base_response, ft_response"
   ]
  },
  {
   "cell_type": "code",
   "execution_count": 16,
   "id": "8d63b187-37be-4721-8959-098d0437c41d",
   "metadata": {},
   "outputs": [
    {
     "name": "stdout",
     "output_type": "stream",
     "text": [
      "问题：解释下乾卦是什么？\n",
      "\n",
      "原始输出：\n",
      "乾卦是周易中的一卦，代表天，具有刚健强劲的特性。它由两个阳爻（代表阳）的卦象叠加而成，象征万事万物的变化和天象的运行。乾卦包含着刚健强劲的特性，以及天动时行的力量。在周易中，它预示着事物的发展变化趋势，以及人们应该遵循的道德规范。\n",
      "\n",
      "乾卦的卦象是：\n",
      "上卦：乾（天），刚健强劲\n",
      "下卦：坤（地），柔顺 sil\n",
      "\n",
      "在周易中，乾卦代表的是刚健强劲的特性，以及天动时行的力量。它象征着事物的发展变化趋势，以及人们应该遵循的道德规范。\n",
      "\n",
      "乾卦的哲学内涵是：\n",
      "- 卦象刚健强劲\n",
      "- 天动时行\n",
      "- 健硬刚强\n",
      "- 预测事物发展变化趋势\n",
      "- 人们应该遵循的道德规范\n",
      "\n",
      "乾卦的运势指数是：\n",
      "- 事业：健硬刚强，注重力量，努力奋斗\n",
      "- 感情：刚柔相济，注重和谐\n",
      "- 健康：刚硬刚强，注重保养\n",
      "- 投资：健硬刚强，寻求力量\n",
      "- 事业：健硬刚强，注重力量，努力奋斗\n",
      "- 感情：刚柔相济，注重和谐\n",
      "- 健康：刚硬刚强，注重保养\n",
      "\n",
      "乾卦的运势特征是：\n",
      "- 事业：健硬刚强，注重力量，努力奋斗\n",
      "- 感情：刚柔相济，注重和谐\n",
      "- 健康：刚硬刚强，注重保养\n",
      "- 投资：健硬刚强，寻求力量\n",
      "- 事业：健硬刚强，注重力量，努力奋斗\n",
      "- 感情：刚柔相济，注重和谐\n",
      "- 健康：刚硬刚强，注重保养\n",
      "\n",
      "乾卦的装束是：\n",
      "- 衣衣：穿着刚硬刚强的衣服\n",
      "- 颜色：使用白色\n",
      "- 饮食：选择刚硬刚强的食物\n",
      "- 旅行：去天动时行的地方\n",
      "\n",
      "乾卦的时运是：\n",
      "- 好运：健硬刚强，注重力量，努力奋斗\n",
      "- 倒霉：刚硬刚强，注重力量，努力奋斗\n",
      "\n",
      "\n",
      "ChatGLM3-6B微调后：\n",
      "[gMASK]sop 解释下乾卦是什么？ 乾卦是周易中的一卦，代表天，由六个阳爻组成，象征刚健强劲的特性。它由下至上阳爻阳阴相间，形成一个阳刚之卦。乾卦的卦辞是“元、亨、利、贞”，预示着天行健健，文武艺高，先武后文，利养元善，志意刚强，纯真无邪。\n",
      "\n",
      "乾卦的初卦为乾，代表天，象征刚健强劲的特性。第二卦为坤，代表地，象征柔顺，依赖刚健的特性。第三卦为震，代表雷，象征声响巨大，声东击西，利养元善。第四卦为巽，代表风，象征柔顺，依赖刚健的特性。第五卦为坎，代表水，象征刚强，柔顺的特性。第六卦为离，代表火，象征刚强，利养元善。\n",
      "\n",
      "乾卦的特性是刚健强劲，代表积极，主动，勇于担当，勇于进取，具有领导力。在周易中，乾卦代表天，象征刚健强劲的特性，预示着文武艺高，先武后文，利养元善，志意刚强，纯真无邪。\n"
     ]
    }
   ],
   "source": [
    "base_response, ft_response = compare_chatglm_results(query=\"解释下乾卦是什么？\")"
   ]
  },
  {
   "cell_type": "code",
   "execution_count": 17,
   "id": "be5da80e-d1de-467f-a3bb-508d5a77a46d",
   "metadata": {},
   "outputs": [
    {
     "name": "stdout",
     "output_type": "stream",
     "text": [
      "问题：地水师卦是什么？\n",
      "\n",
      "原始输出：\n",
      "地水师卦是一个由坎卦（水）和坤卦（地）组成的卦象，代表major水地卦。在周易中，这个卦象代表着重大地现象，象征重大地变化。根据《象辞》，这个卦象的卦象是：下坤上坎。根据《断易天机》一书的解释，地水相克，上下相吸，象征的是刚柔相济，众阴承刚。根据context，地水师卦被认为代表一对夫妻相互离异，或者夫妻之间出现矛盾，需要双方都象征硬汉，努力地拖住对方，以力相抗。\n",
      "\n",
      "虽然sourceof以上内容无法确定是否准确，但是地水师卦被认为是一个象征重大地变化和刚柔相济的卦象，离异双方的努力和坚持可能会带来积极的结果。\n",
      "\n",
      "\n",
      "ChatGLM3-6B微调后：\n",
      "[gMASK]sop 地水师卦是什么？ 地水师卦是一个由三个卦象组成的卦卦，代表田地中的水。它由坎卦（水）和坤卦（地）组成，其卦象为：上坎下坤。卦象解释：坎卦为水，代表田地中的水；坤卦为地，代表田地中的水。 both卦 are known for their calming effect，and are associated with the concept of the earth and water.\n",
      "\n",
      "堪言卦（卦） \n",
      " 堪言卦是卦，是卦象，是预测的卦象，代表田地中的水。它由坎卦（水）和坤卦（地）组成，其卦象为：上坎下坤。卦象解释：坎卦为水，代表田地中的水；坤卦为地，代表田地中的水。 both卦 are known for their calming effect，and are associated with the concept of the earth and water.\n"
     ]
    }
   ],
   "source": [
    "base_response, ft_response = compare_chatglm_results(query=\"地水师卦是什么？\")"
   ]
  },
  {
   "cell_type": "code",
   "execution_count": 18,
   "id": "04f0eb9a-5075-4588-914a-2538bea801aa",
   "metadata": {},
   "outputs": [
    {
     "name": "stdout",
     "output_type": "stream",
     "text": [
      "问题：天水讼卦\n",
      "\n",
      "原始输出：\n",
      "{'name': '卦象为：上坎下离，离为离，加卦为加', 'content': '卦象解释：上坎下离，离为离，加卦为加。离，火；坎，水。离为离，指数为3，为刚柔相离的变化。加，加卦，为加，为利，为胜。卦象代表的是刚柔相离的变化，象征的是离为离，离为离，加卦为加。离，火；坎，水。离为离，指数为3，为刚柔相离的变化。加，加卦为利，为胜。\\n\\n推演卦象：利胜\\n\\n推演卦象为：离为离，离为离，加卦为加。离，火；坎，水。离为离，指数为3，为刚柔相离的变化。加，加卦为利，为胜。\\n\\n象辞卦象：火补丁火，互为离火，为刚柔相离的变化。加，为胜。\\n\\n conclusions\\n\\n结论1：离为离，为刚柔相离的变化。加，为胜。\\n\\n结论2：利胜\\n\\n所以，天水讼卦的卦象为利胜。'}\n",
      "\n",
      "\n",
      "ChatGLM3-6B微调后：\n",
      "[gMASK]sop 天水讼卦\n",
      "\n",
      "卦象为：天（乾为天）*地（坤为地）*风（巽为风）*雷（震为雷）*雨（巽为雨）*夏（离为夏）*秋（离为秋）*冬（离为冬）*春（离为春）\n",
      "\n",
      "卦象解释：\n",
      "\n",
      "* 天为阳，地为阴。\n",
      "* 乾为天，为夫为君，为父为孟\n",
      "* 坤为地，为母为季\n",
      "* 坤为地, 动而地益成，为无极而起为有\n",
      "* 震为雷，动而观其象，为带电的雷\n",
      "* 雨为巽，为云，为夏为显，为柔弱\n",
      "* 离为夏，为火，为光，为丽\n",
      "* 丽为秋，为商为众，为丽为美\n",
      "* 离为冬，为寒为清，为商为限\n",
      "\n",
      "* 春为离，为寒为温，为开\n",
      "\n",
      "卦象的含义是：\n",
      "\n",
      "* 天为阳，地为阴。\n",
      "* 乾为天，为夫为君，为父为孟\n",
      "* 坤为地，为母为季\n",
      "* 坤为地, 动而地益成，为无极而起为有\n",
      "* 震为雷，动而观其象，为带电的雷\n",
      "* 雨为巽，为云，为夏为显，为柔弱\n",
      "* 离为夏，为火，为光，为丽\n",
      "* 丽为秋，为商为众，为丽为美\n",
      "* 离为冬，为寒为清，为商为限\n",
      "* 春为离，为寒为温，为开\n",
      "\n",
      "* 总体来说，这是一个充满变化和发展的卦象。\n",
      "* 适合寻求成功和解决冲突。\n",
      "* 预示吉祥，但需谨慎\n",
      "* 预示困难，但需耐心。\n",
      "* 预示成功和发展，但需努力\n",
      "* 预示困难和高潮，但需谨慎\n",
      "* 预示成功和发展，但需努力\n",
      "* 预示成功和发展，但需努力\n",
      "\n",
      "* 该卦象代表的是：天为阳，地为阴。乾为天，为夫为君，为父为孟\n"
     ]
    }
   ],
   "source": [
    "base_response, ft_response = compare_chatglm_results(query=\"天水讼卦\")"
   ]
  },
  {
   "cell_type": "markdown",
   "id": "7d48183f-f1dc-4171-b217-e269a5b9c1b9",
   "metadata": {},
   "source": [
    "#### 加载 QLoRA Adapter(Epoch=3, automade-dataset)"
   ]
  },
  {
   "cell_type": "code",
   "execution_count": 19,
   "id": "46a0e881-a4f3-43b2-8a61-0ec543a538a7",
   "metadata": {},
   "outputs": [],
   "source": [
    "from peft import PeftModel, PeftConfig\n",
    "\n",
    "epochs = 3\n",
    "peft_model_path = f\"models/{model_name_or_path}-epoch{epochs}\"\n",
    "\n",
    "config = PeftConfig.from_pretrained(peft_model_path)\n",
    "model = PeftModel.from_pretrained(base_model, peft_model_path)"
   ]
  },
  {
   "cell_type": "code",
   "execution_count": 20,
   "id": "37d395a9-d34e-4bbf-87e1-54a0d860cb51",
   "metadata": {},
   "outputs": [],
   "source": [
    "def compare_chatglm_results(query):\n",
    "    base_response, base_history = base_model.chat(tokenizer, query)\n",
    "\n",
    "    inputs = tokenizer(query, return_tensors=\"pt\").to(0)\n",
    "    ft_out = model.generate(**inputs, max_new_tokens=512)\n",
    "    ft_response = tokenizer.decode(ft_out[0], skip_special_tokens=True)\n",
    "    \n",
    "    print(f\"问题：{query}\\n\\n原始输出：\\n{base_response}\\n\\n\\nChatGLM3-6B微调后：\\n{ft_response}\")\n",
    "    return base_response, ft_response"
   ]
  },
  {
   "cell_type": "code",
   "execution_count": 21,
   "id": "1f53196e-f523-4105-b04a-9ddab349cce1",
   "metadata": {},
   "outputs": [
    {
     "name": "stdout",
     "output_type": "stream",
     "text": [
      "问题：解释下乾卦是什么？\n",
      "\n",
      "原始输出：\n",
      "乾卦是周易中的一卦，代表天，具有刚健的象征意义。它由两个阳爻（象征天）叠加而成，代表着刚强、积极、勇敢的特性。在卜卦时，乾卦预示着吉祥如意，但 also需要警惕过于刚强导致的困难。在卜卦中，阳爻代表刚强，阴爻代表柔弱。因此，在决策时应当考虑到事物的两面性，以及刚强可能会导致的困难。\n",
      "\n",
      "乾卦的卦象是：初九，九二，九三，九四，九五，九六。在每一卦中，阳爻逐渐增加，代表着逐渐刚强、积极、勇敢的特性。\n",
      "\n",
      "乾卦的核心哲学是：刚强就能成功。但刚强又有极点，超出刚强就会发生灾难。因此，决策时应当考虑到事物的两面性，以及刚强可能会导致的困难。\n",
      "\n",
      "乾卦的取象术是：取天（阳）为象，代表刚强、积极、勇敢的特性。\n",
      "\n",
      "\n",
      "ChatGLM3-6B微调后：\n",
      "[gMASK]sop 解释下乾卦是什么？ 乾卦是周易中的一卦，代表天，具有刚健的象征意义。它由两个卦象叠加而成，上卦为乾，下卦为坤。上卦的卦象为天，下卦的卦象为地，象征着天地的相应。\n",
      "\n",
      "乾卦的卦象是三个阳爻（表示天），两个阴爻（表示地），象征着天地的相应。阳爻代表刚健，阴爻代表柔顺。因此，乾卦意味着刚健健忘，具有刚健的力量，但也有柔顺的特性。\n",
      "\n",
      "在占卜中，乾卦预示着天（刚健）欲往地（柔顺）求得的情况。对于卜者来说，这预示着必须刚健很强，具有刚健的力量，但也要注意保持柔顺，谨慎行事，以免招致困难。\n",
      "\n",
      "在解卦中，乾卦代表天，具有刚健的象征意义。它预示着刚健健忘，具有刚健的力量，但也有柔顺的特性。在决策时，刚健的特性会使人更容易冲动，因此，应该刚中有柔，注重柔顺，谨慎行事，以免招致困难。\n"
     ]
    }
   ],
   "source": [
    "base_response, ft_response = compare_chatglm_results(query=\"解释下乾卦是什么？\")"
   ]
  },
  {
   "cell_type": "code",
   "execution_count": 22,
   "id": "046306ad-6afe-4ec9-ae55-3df04f61d8f5",
   "metadata": {},
   "outputs": [
    {
     "name": "stdout",
     "output_type": "stream",
     "text": [
      "问题：地水师卦是什么？\n",
      "\n",
      "原始输出：\n",
      "地水师卦是周易中的一卦，由地卦（坤）和坎卦（水）组成，代表地面上的水。地水师卦代表的是指挥官（地）和水的混合，象征着混合着在地上和水上的军队。在占卜时，地面上的水（代表军队）流动，训练着军队，优先考虑攻击方向。\n",
      "\n",
      "地水师卦的吉祥 outcomes包括：\n",
      "\n",
      "1. 地面平滑如水（吉祥）， \n",
      "2. 军队和平， \n",
      "3. 敌军受困， \n",
      "4. 战争平息， \n",
      "5. 军队安静。\n",
      "\n",
      "不利因素包括：\n",
      "\n",
      "1. 地面凹凸不平（ unfinished ground），\n",
      "2. 河流泛滥（ water over flow），\n",
      "3. 军队不听命令（ unfaithful army）。\n",
      "\n",
      "在分析地水师卦时，需要考虑到地面和水流的特征，以及军队的状况和命令。通过对卦象的解读，可以揭示出当前情况的特点，从而得出合适的决策。\n",
      "\n",
      "\n",
      "ChatGLM3-6B微调后：\n",
      "[gMASK]sop 地水师卦是什么？ 地水师卦是一个由上卦坤（地）和下卦坎（水）组成的卦象，上卦为坤，下卦为坎。在卜筮时，上卦表示地，下卦表示水，象征着地载水的情况。地水师卦的卦象表示了地水相融合的情况，预示着顺利，为吉兆。\n",
      "\n",
      "地水师卦的哲学含义是：悦于水之清，悦于地之平。悦于水之静，悦于地之静。悦于水之德，悦于地之德。悦于水之志，悦于地之志。悦于水之节，悦于地之节。悦于水之诚，悦于地之诚。\n",
      "\n",
      "地水师卦的运势：\n",
      "\n",
      "- 0年：利于土地，安宅落业。\n",
      "- 1年：利于涉水，涉远涉深。\n",
      "- 2年：利于土地，利于 home。\n",
      "- 3年：利于涉水，利于远行。\n",
      "- 4年：利于土地，利于 home。\n",
      "- 5年：利于涉水，利于远行。\n",
      "- 6年：利于土地，安宅落业。\n",
      "- 7年：利于涉水，利于 home。\n",
      "- 8年：利于土地，利于 home。\n",
      "- 9年：利于涉水，利于远行。\n",
      "- 10年：利于土地，利于 home。\n",
      "\n",
      "地水师卦的事业和经商预测：\n",
      "\n",
      "- 适宜的职业：土地、房屋、农业、水利等。\n",
      "- 不适宜的职业：水上、航行、远行、冒险等。\n",
      "- 适合的时机：稳定、平静、温和、和谐等。\n",
      "- 不适宜的时机：变动、冲突、艰难、危险等。\n",
      "\n",
      "总体来说，地水师卦预示着顺利，为吉兆，但需要稳定、温和、和谐的处理水边事物。\n"
     ]
    }
   ],
   "source": [
    "base_response, ft_response = compare_chatglm_results(query=\"地水师卦是什么？\")"
   ]
  },
  {
   "cell_type": "code",
   "execution_count": 23,
   "id": "2ab3c310-8cc8-428a-91fa-964b7a58df43",
   "metadata": {},
   "outputs": [
    {
     "name": "stdout",
     "output_type": "stream",
     "text": [
      "问题：周易中的讼卦是什么\n",
      "\n",
      "原始输出：\n",
      "在周易中，讼卦是一个极具深意的卦象。上卦为乾（天），下卦为坎（水），两者相背而行，代表天与水违行的状况，象征着事理乖舛和争讼之象。讼卦中有利可图，但必须警惕戒惧，事情中间吉利，但最终会有凶险。在卜卦时，利于会见贵族王公，但不利于涉水渡河。\n",
      "\n",
      "讼卦的核心哲学是：开始可能顺利，有所收获，但随后会遇到困难和挫折。因此，务必慎之又慎，不得固执已见，避免介入诉讼纠纷的争执之中。退让而不固执，求得化解，安于正理，可免除意外之灾。陷入争讼，即使获胜，最后还得失去，得不偿失。\n",
      "\n",
      "讼卦的经商指引是：和气生财，吃亏是福，切勿追求不义之财。在商业谈判中要坚持公正、公平、互利的原则，尽量避免发生冲突。\n",
      "\n",
      "对于决策，讼卦提醒我们，争强好胜，不安于现状，为改变命运和超越他人而奋斗。但缺乏持之以恒的毅力，容易得罪他人，带来诉讼之灾。因此，接受教训，引以为戒，可功成名就。\n",
      "\n",
      "讼卦所蕴含的智慧是：在面对争端和异见时，要善于退让和求和，坚守正道，谨慎处事，以避免不必要的冲突和损失。\n",
      "\n",
      "\n",
      "ChatGLM3-6B微调后：\n",
      "[gMASK]sop 周易中的讼卦是什么卦象？ 在周易中，讼卦是一个极具深意的卦象。上卦为乾（天），下卦为坎（水），两者相背而行，代表天与水违行的状况，象征着事理乖舛和争讼之象。讼卦中有利可图，但必须警惕戒惧，事情中间吉利，但最终会有凶险。在卜卦时，利于会见贵族王公，但不利于涉水渡河。\n",
      "\n",
      "讼卦的核心哲学是：开始可能顺利，有所收获，但随后会遇到困难和挫折。因此，务必慎之又慎，不得固执已见，避免介入诉讼纠纷的争执之中。退让而不固执，求得化解，安于正理，可免除意外之灾。陷入争讼，即使获胜，最后还得失去，得不偿失。\n",
      "\n",
      "讼卦的经商指引是：和气生财，吃亏是福，切勿追求不义之财。在商业谈判中要坚持公正、公平、互利的原则，尽量避免发生冲突。\n",
      "\n",
      "对于决策，讼卦提醒我们，争强好胜，不安于现状，为改变命运和超越他人而奋斗。但缺乏持之以恒的毅力，容易得罪他人，带来诉讼之灾。因此，接受教训，引以为戒，可功成名就。\n",
      "\n",
      "讼卦所蕴含的智慧是：在面对争端和异见时，要善于退让和求和，坚守正道，谨慎处事，以避免不必要的冲突和损失。\n"
     ]
    }
   ],
   "source": [
    "base_response, ft_response = compare_chatglm_results(query=\"周易中的讼卦是什么\")"
   ]
  },
  {
   "cell_type": "code",
   "execution_count": null,
   "id": "9cfffcc5-afa6-45c1-985a-a3eb86a0d1c8",
   "metadata": {},
   "outputs": [],
   "source": []
  },
  {
   "cell_type": "markdown",
   "id": "6bcfc5a2-41ed-405c-a31c-dca4fbb67425",
   "metadata": {},
   "source": [
    "#### 加载 QLoRA Adapter(Epoch=3, automade-dataset(fixed))"
   ]
  },
  {
   "cell_type": "code",
   "execution_count": 25,
   "id": "9c767c67-42aa-459c-a096-e226226c359b",
   "metadata": {},
   "outputs": [],
   "source": [
    "from peft import PeftModel, PeftConfig\n",
    "\n",
    "epochs = 3\n",
    "timestamp = \"20240118_164514\"\n",
    "peft_model_path = f\"models/{model_name_or_path}-epoch{epochs}\"\n",
    "\n",
    "config = PeftConfig.from_pretrained(peft_model_path)\n",
    "model = PeftModel.from_pretrained(base_model, peft_model_path)"
   ]
  },
  {
   "cell_type": "code",
   "execution_count": 26,
   "id": "24a5d22b-2c94-4dcf-8135-18d78f98755f",
   "metadata": {},
   "outputs": [],
   "source": [
    "def compare_chatglm_results(query):\n",
    "    base_response, base_history = base_model.chat(tokenizer, query)\n",
    "\n",
    "    inputs = tokenizer(query, return_tensors=\"pt\").to(0)\n",
    "    ft_out = model.generate(**inputs, max_new_tokens=512)\n",
    "    ft_response = tokenizer.decode(ft_out[0], skip_special_tokens=True)\n",
    "    \n",
    "    print(f\"问题：{query}\\n\\n原始输出：\\n{base_response}\\n\\n\\nChatGLM3-6B(Epoch=3, automade-dataset(fixed))微调后：\\n{ft_response}\")\n",
    "    return base_response, ft_response"
   ]
  },
  {
   "cell_type": "code",
   "execution_count": 27,
   "id": "7db16cd5-0bb5-44ab-b861-d9ca6a4970c2",
   "metadata": {},
   "outputs": [
    {
     "name": "stdout",
     "output_type": "stream",
     "text": [
      "问题：解释下乾卦是什么？\n",
      "\n",
      "原始输出：\n",
      "乾卦是周易中的一卦，代表天，具有刚健的象征意义。它由两个卦象叠加而成，上卦是乾卦，下卦是坤卦。在卜问中，乾卦预示着天象的运行，预示着吉利的出现。在占卜中，大吉的结论出现了，说明吉利将会长期持续。然而，在战争中，吉利将会转化为不利的情况，带来军队的失败。\n",
      "\n",
      "乾卦的卦象是两个阳爻（象征天）叠加而成，具有强烈的阳刚之气。这种卦象象征着刚健、强盛、勇敢和力量。在解卦中，刚健的刚象出现了，预示着不久的将来，刚健的刚象将会出现，带来积极的影响。\n",
      "\n",
      "乾卦的卦辞这样描述：“元、亨、利、贞”，意味着吉祥、正谋、顺利、正道。这一卦显示了天象的运行，预示着吉利将会出现，具有积极的意义。\n",
      "\n",
      "总体而言，乾卦预示着天象的运行，带来吉利和力量，预示着不久的将来，刚健的刚象将会出现，带来积极的影响。在解卦中，刚健的刚象出现了，预示着不久的将来，刚健的刚象将会出现，带来积极的影响。\n",
      "\n",
      "\n",
      "ChatGLM3-6B(Epoch=3, automade-dataset(fixed))微调后：\n",
      "[gMASK]sop 解释下乾卦是什么？ 乾卦是周易中的一卦，代表天，具有刚健的象征意义。它由两个卦象叠加而成，上卦为乾，下卦为坤。上卦的卦象为天，下卦的卦象为地，象征着天地的相应。\n",
      "\n",
      "乾卦的卦象是三个阳爻（表示天），两个阴爻（表示地），象征着天地的相应。阳爻代表刚健，阴爻代表柔顺。因此，乾卦意味着刚健健忘，具有刚健的力量，但也有柔顺的特性。\n",
      "\n",
      "在占卜中，乾卦预示着天（刚健）欲往地（柔顺）求得的情况。对于卜者来说，这预示着必须刚健很强，具有刚健的力量，但也要注意保持柔顺，谨慎行事，以免招致困难。\n",
      "\n",
      "在解卦中，乾卦代表天，具有刚健的象征意义。它预示着刚健健忘，具有刚健的力量，但也有柔顺的特性。在决策时，刚健的特性会使人更容易冲动，因此，应该刚中有柔，注重柔顺，谨慎行事，以免招致困难。\n"
     ]
    }
   ],
   "source": [
    "base_response, ft_response = compare_chatglm_results(query=\"解释下乾卦是什么？\")"
   ]
  },
  {
   "cell_type": "code",
   "execution_count": null,
   "id": "d5a31554-40f1-4e6e-8240-f207c4a61b42",
   "metadata": {},
   "outputs": [],
   "source": [
    "base_response, ft_response = compare_chatglm_results(query=\"地水师卦是什么？\")"
   ]
  },
  {
   "cell_type": "code",
   "execution_count": null,
   "id": "7aa074bd-c819-4533-a10f-f3184dc9549a",
   "metadata": {},
   "outputs": [],
   "source": [
    "base_response, ft_response = compare_chatglm_results(query=\"周易中的讼卦是什么\")"
   ]
  },
  {
   "cell_type": "code",
   "execution_count": null,
   "id": "abae8a8e-00bb-4801-931a-c942206f0e2a",
   "metadata": {},
   "outputs": [],
   "source": []
  },
  {
   "cell_type": "code",
   "execution_count": null,
   "id": "a0587d68-49c0-4a75-8c10-38c4fc5e9641",
   "metadata": {},
   "outputs": [],
   "source": []
  }
 ],
 "metadata": {
  "kernelspec": {
   "display_name": "python3.11-conda",
   "language": "python",
   "name": "python3.11-conda"
  },
  "language_info": {
   "codemirror_mode": {
    "name": "ipython",
    "version": 3
   },
   "file_extension": ".py",
   "mimetype": "text/x-python",
   "name": "python",
   "nbconvert_exporter": "python",
   "pygments_lexer": "ipython3",
   "version": "3.11.5"
  }
 },
 "nbformat": 4,
 "nbformat_minor": 5
}
